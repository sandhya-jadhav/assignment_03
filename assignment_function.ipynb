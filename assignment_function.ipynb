{
 "cells": [
  {
   "cell_type": "markdown",
   "id": "8ede0653-69af-4df9-813d-e4a02580f6ab",
   "metadata": {},
   "source": [
    "### Q1. Which keyword is used to create a function? Create a function to return a list of odd numbers in the range of 1 to 25."
   ]
  },
  {
   "cell_type": "markdown",
   "id": "71aa3d39-c9e2-4291-9bfb-760512a154ab",
   "metadata": {},
   "source": [
    "#####  Which keyword is used to create a function? Ans : = def"
   ]
  },
  {
   "cell_type": "code",
   "execution_count": 1,
   "id": "08e4f817-9d4c-494f-bf90-5f2df5384187",
   "metadata": {},
   "outputs": [
    {
     "data": {
      "text/plain": [
       "[1, 3, 5, 7, 9, 11, 13, 15, 17, 19, 21, 23, 25]"
      ]
     },
     "execution_count": 1,
     "metadata": {},
     "output_type": "execute_result"
    }
   ],
   "source": [
    "def odd_num():\n",
    "    odd_numbers = []\n",
    "    for num in range(1, 26):\n",
    "        if num % 2 != 0:\n",
    "            odd_numbers.append(num)\n",
    "    return odd_numbers\n",
    "odd_num()\n"
   ]
  },
  {
   "cell_type": "markdown",
   "id": "9324b8b8-31d4-46e8-a060-608b146e183a",
   "metadata": {},
   "source": [
    "### Q2. Why *args and **kwargs is used in some functions? Create a function each for *args and **kwargs to demonstrate their use"
   ]
  },
  {
   "cell_type": "markdown",
   "id": "a49df50b-019a-4ff6-857b-1e3715b03b37",
   "metadata": {},
   "source": [
    "*args OR **kwargs – as our function’s argument when we have doubts about the number of  arguments we should pass in a function."
   ]
  },
  {
   "cell_type": "code",
   "execution_count": 2,
   "id": "40947449-e6f2-4bd6-a35a-9a910b9d3303",
   "metadata": {},
   "outputs": [
    {
     "name": "stdout",
     "output_type": "stream",
     "text": [
      "Hi\n",
      "sam\n",
      "23\n",
      "67\n",
      "Pw\n"
     ]
    }
   ],
   "source": [
    "def test1(*argv):\n",
    "    for arg in argv:\n",
    "        print(arg)\n",
    "test1('Hi','sam',23,67,'Pw')"
   ]
  },
  {
   "cell_type": "code",
   "execution_count": null,
   "id": "fba440e8-b414-4a9e-acfc-f4273ead6faa",
   "metadata": {},
   "outputs": [],
   "source": [
    "def myFun(**kwargs):\n",
    "\tfor key, value in kwargs.items():\n",
    "\t\tprint(\"%s == %s\" % (key, value))\n",
    "\n",
    "\n",
    "# Driver code\n",
    "myFun(first='Geeks', mid='for', last='Geeks')\n"
   ]
  },
  {
   "cell_type": "code",
   "execution_count": 5,
   "id": "9b044398-8f19-4d85-880a-b5b02de28987",
   "metadata": {},
   "outputs": [
    {
     "name": "stdout",
     "output_type": "stream",
     "text": [
      "fruits == banana\n",
      "vegetables == spinach\n",
      "food == paratha\n"
     ]
    }
   ],
   "source": [
    "def test2(**kwargs):\n",
    "    for key, value in kwargs.items():\n",
    "        print(\"%s == %s\" % (key, value))\n",
    "test2(fruits='banana',vegetables='spinach',food='paratha')"
   ]
  },
  {
   "cell_type": "markdown",
   "id": "7076fb9c-4570-4f49-83d4-cda6ac54a3e4",
   "metadata": {},
   "source": [
    "#### Q3. What is an iterator in python? Name the method used to initialise the iterator object and the method used for iteration. Use these methods to print the first five elements of the given list [2, 4, 6, 8, 10, 12, 14,16, 18, 20]."
   ]
  },
  {
   "cell_type": "markdown",
   "id": "44b25f28-da5c-4e18-a39e-8488d3ab557f",
   "metadata": {},
   "source": [
    "An iterator in Python is an object that is used to iterate over iterable objects like lists, tuples, dicts, and sets. The Python iterators object is initialized using the iter() method. It uses the next() method for iteration.\n",
    "\n",
    "__iter__(): The iter() method is called for the initialization of an iterator. This returns an iterator object\n",
    "__next__(): The next method returns the next value for the iterable. When we use a for loop to traverse any iterable object, internally it uses the iter() method to get an iterator object, which further uses the next() method to iterate over. This method raises a StopIteration to signal the end of the iteration."
   ]
  },
  {
   "cell_type": "code",
   "execution_count": 5,
   "id": "cd568f36-3d4f-45db-8002-af95db6b48f1",
   "metadata": {},
   "outputs": [
    {
     "name": "stdout",
     "output_type": "stream",
     "text": [
      "2\n",
      "4\n",
      "6\n",
      "8\n",
      "10\n"
     ]
    }
   ],
   "source": [
    "# Given list\n",
    "my_list = [2, 4, 6, 8, 10, 12, 14, 16, 18, 20]\n",
    "\n",
    "# Initialize the iterator object\n",
    "my_iterator = iter(my_list)\n",
    "\n",
    "# Iterate and print the first five elements\n",
    "for _ in range(5):\n",
    "    print(next(my_iterator))\n"
   ]
  },
  {
   "cell_type": "markdown",
   "id": "599276bf-a7b5-498f-b7c3-7280071bd0e8",
   "metadata": {},
   "source": [
    "###  Q4. What is a generator function in python? Why yield keyword is used? Give an example of a generator function.\n"
   ]
  },
  {
   "cell_type": "markdown",
   "id": "e87463e2-51c5-47c1-8a96-c898bbee17af",
   "metadata": {},
   "source": [
    "### A generator function in Python is a special type of function that allows you to iterate over a sequence of values. Unlike a regular function that returns a single value and terminates, a generator function can yield multiple values, one at a time, and pause its execution in between each value. Why yield is Used: The yield keyword is used in a generator function to produce a value and pause the function's execution, maintaining its state until the next value is requested. When the function is called again (e.g., using next()), it resumes from where it left off, instead of starting over.\n"
   ]
  },
  {
   "cell_type": "code",
   "execution_count": 6,
   "id": "d5914e01-945a-4669-858f-2903f811449c",
   "metadata": {},
   "outputs": [
    {
     "name": "stdout",
     "output_type": "stream",
     "text": [
      "1\n",
      "4\n",
      "9\n",
      "16\n",
      "25\n"
     ]
    }
   ],
   "source": [
    "# Generator function to yield square of numbers from 1 to n\n",
    "def square_numbers(n):\n",
    "    for i in range(1, n + 1):\n",
    "        yield i * i\n",
    "\n",
    "# Create a generator object\n",
    "squares = square_numbers(5)\n",
    "\n",
    "# Iterate over the generator object\n",
    "for square in squares:\n",
    "    print(square)\n"
   ]
  },
  {
   "cell_type": "markdown",
   "id": "8d841714-c549-4cd9-bcac-4bd042c61ec9",
   "metadata": {},
   "source": [
    "#### Q5. Create a generator function for prime numbers less than 1000. Use the next() method to print the first 20 prime numbers."
   ]
  },
  {
   "cell_type": "code",
   "execution_count": 7,
   "id": "f8fb18c5-6f42-4bf5-81c4-146cd1d5ddef",
   "metadata": {},
   "outputs": [
    {
     "name": "stdout",
     "output_type": "stream",
     "text": [
      "2\n",
      "3\n",
      "5\n",
      "7\n",
      "11\n",
      "13\n",
      "17\n",
      "19\n",
      "23\n",
      "29\n",
      "31\n",
      "37\n",
      "41\n",
      "43\n",
      "47\n",
      "53\n",
      "59\n",
      "61\n",
      "67\n",
      "71\n"
     ]
    }
   ],
   "source": [
    "def prime_numbers():\n",
    "    for num in range(2, 1000):\n",
    "        is_prime = True\n",
    "        for i in range(2, int(num ** 0.5) + 1):\n",
    "            if num % i == 0:\n",
    "                is_prime = False\n",
    "                break\n",
    "        if is_prime:\n",
    "            yield num\n",
    "\n",
    "# Create a generator object\n",
    "primes = prime_numbers()\n",
    "\n",
    "# Print the first 20 prime numbers\n",
    "for _ in range(20):\n",
    "    print(next(primes))\n"
   ]
  },
  {
   "cell_type": "markdown",
   "id": "572340ca-7e72-4924-a1f3-ec488b7714c0",
   "metadata": {},
   "source": [
    "#### Q6. Write a python program to print the first 10 Fibonacci numbers using a while loop."
   ]
  },
  {
   "cell_type": "code",
   "execution_count": 8,
   "id": "ae560f96-ee6c-4d4f-a06a-cd2fb6a99dbd",
   "metadata": {},
   "outputs": [
    {
     "name": "stdout",
     "output_type": "stream",
     "text": [
      "0\n",
      "1\n",
      "1\n",
      "2\n",
      "3\n",
      "5\n",
      "8\n",
      "13\n",
      "21\n",
      "34\n"
     ]
    }
   ],
   "source": [
    "# Initialize the first two Fibonacci numbers\n",
    "a, b = 0, 1\n",
    "\n",
    "# Initialize a counter to track the number of Fibonacci numbers printed\n",
    "count = 0\n",
    "\n",
    "# Loop to print the first 10 Fibonacci numbers\n",
    "while count < 10:\n",
    "    print(a)\n",
    "    # Update the values of a and b to the next Fibonacci numbers\n",
    "    a, b = b, a + b\n",
    "    # Increment the counter\n",
    "    count += 1\n"
   ]
  },
  {
   "cell_type": "markdown",
   "id": "99104ce2-e3c0-462a-be3d-9e847c152636",
   "metadata": {},
   "source": [
    "#### Q7. Write a List Comprehension to iterate through the given string: ‘pwskills’.Expected output: ['p', 'w', 's', 'k', 'i', 'l', 'l', 's']"
   ]
  },
  {
   "cell_type": "code",
   "execution_count": 9,
   "id": "c5e71377-dbc6-4550-b623-c8b48a403b34",
   "metadata": {},
   "outputs": [
    {
     "name": "stdout",
     "output_type": "stream",
     "text": [
      "['p', 'w', 's', 'k', 'i', 'l', 'l', 's']\n"
     ]
    }
   ],
   "source": [
    "# Given string\n",
    "string = 'pwskills'\n",
    "\n",
    "# List comprehension to iterate through the string\n",
    "output = [char for char in string if char != ' ']\n",
    "\n",
    "# Print the output\n",
    "print(output)\n"
   ]
  },
  {
   "cell_type": "markdown",
   "id": "04bbc711-56d3-4dae-b9b3-98f5f959abb0",
   "metadata": {},
   "source": [
    "#### Q8. Write a python program to check whether a given number is Palindrome or not using a while loop."
   ]
  },
  {
   "cell_type": "code",
   "execution_count": 11,
   "id": "36f55fc2-ea88-41a7-960a-f11e0f334d06",
   "metadata": {},
   "outputs": [
    {
     "name": "stdin",
     "output_type": "stream",
     "text": [
      "Enter a number:  121\n"
     ]
    },
    {
     "name": "stdout",
     "output_type": "stream",
     "text": [
      "121 is a palindrome.\n"
     ]
    }
   ],
   "source": [
    "# Function to check if a number is a palindrome\n",
    "def is_palindrome(number):\n",
    "    # Store the original number\n",
    "    original_number = number\n",
    "    # Initialize a variable to hold the reversed number\n",
    "    reversed_number = 0\n",
    "    \n",
    "    # While loop to reverse the number\n",
    "    while number > 0:\n",
    "        # Get the last digit of the number\n",
    "        digit = number % 10\n",
    "        # Add the digit to the reversed number\n",
    "        reversed_number = reversed_number * 10 + digit\n",
    "        # Remove the last digit from the original number\n",
    "        number = number // 10\n",
    "    \n",
    "    # Check if the original number and the reversed number are the same\n",
    "    return original_number == reversed_number\n",
    "\n",
    "# Input: number to check\n",
    "number = int(input(\"Enter a number: \"))\n",
    "\n",
    "# Check if the number is a palindrome and print the result\n",
    "if is_palindrome(number):\n",
    "    print(f\"{number} is a palindrome.\")\n",
    "else:\n",
    "    print(f\"{number} is not a palindrome.\")\n"
   ]
  },
  {
   "cell_type": "markdown",
   "id": "b3e4d2a3-03b5-4f17-882e-35330cf4e84d",
   "metadata": {},
   "source": [
    "#### Q9. Write a code to print odd numbers from 1 to 100 using list comprehension. Note: Use a list comprehension to create a list from 1 to 100 and use another List comprehension to filter out odd numbers."
   ]
  },
  {
   "cell_type": "code",
   "execution_count": 12,
   "id": "874b746e-e4eb-42bd-9719-4dade23404f6",
   "metadata": {},
   "outputs": [
    {
     "name": "stdout",
     "output_type": "stream",
     "text": [
      "[1, 3, 5, 7, 9, 11, 13, 15, 17, 19, 21, 23, 25, 27, 29, 31, 33, 35, 37, 39, 41, 43, 45, 47, 49, 51, 53, 55, 57, 59, 61, 63, 65, 67, 69, 71, 73, 75, 77, 79, 81, 83, 85, 87, 89, 91, 93, 95, 97, 99]\n"
     ]
    }
   ],
   "source": [
    "# List comprehension to create a list of numbers from 1 to 100\n",
    "numbers = [num for num in range(1, 101)]\n",
    "\n",
    "# List comprehension to filter out odd numbers\n",
    "odd_numbers = [num for num in numbers if num % 2 != 0]\n",
    "\n",
    "# Print the list of odd numbers\n",
    "print(odd_numbers)\n"
   ]
  },
  {
   "cell_type": "code",
   "execution_count": null,
   "id": "97f09c44-cebf-446f-b96b-6f4b4225faab",
   "metadata": {},
   "outputs": [],
   "source": []
  },
  {
   "cell_type": "code",
   "execution_count": null,
   "id": "cf731788-1684-4905-b5f8-b2bdc66195ac",
   "metadata": {},
   "outputs": [],
   "source": []
  },
  {
   "cell_type": "code",
   "execution_count": null,
   "id": "3629d901-f63a-444d-b51a-7a2f4a36eb98",
   "metadata": {},
   "outputs": [],
   "source": []
  },
  {
   "cell_type": "code",
   "execution_count": null,
   "id": "13e11aa6-8d9d-4379-a291-29bdc869a0e1",
   "metadata": {},
   "outputs": [],
   "source": []
  },
  {
   "cell_type": "code",
   "execution_count": null,
   "id": "0a70a33f-a729-4dc1-91dd-162beab636a3",
   "metadata": {},
   "outputs": [],
   "source": []
  }
 ],
 "metadata": {
  "kernelspec": {
   "display_name": "Python 3 (ipykernel)",
   "language": "python",
   "name": "python3"
  },
  "language_info": {
   "codemirror_mode": {
    "name": "ipython",
    "version": 3
   },
   "file_extension": ".py",
   "mimetype": "text/x-python",
   "name": "python",
   "nbconvert_exporter": "python",
   "pygments_lexer": "ipython3",
   "version": "3.10.8"
  }
 },
 "nbformat": 4,
 "nbformat_minor": 5
}
